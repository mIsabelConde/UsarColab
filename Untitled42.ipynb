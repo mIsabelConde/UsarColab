{
  "nbformat": 4,
  "nbformat_minor": 0,
  "metadata": {
    "colab": {
      "provenance": [],
      "authorship_tag": "ABX9TyPuxyxH6BbLo08FIr/pK3y7",
      "include_colab_link": true
    },
    "kernelspec": {
      "name": "python3",
      "display_name": "Python 3"
    },
    "language_info": {
      "name": "python"
    }
  },
  "cells": [
    {
      "cell_type": "markdown",
      "metadata": {
        "id": "view-in-github",
        "colab_type": "text"
      },
      "source": [
        "<a href=\"https://colab.research.google.com/github/mIsabelConde/UsarColab/blob/main/Untitled42.ipynb\" target=\"_parent\"><img src=\"https://colab.research.google.com/assets/colab-badge.svg\" alt=\"Open In Colab\"/></a>"
      ]
    },
    {
      "cell_type": "code",
      "execution_count": 2,
      "metadata": {
        "colab": {
          "base_uri": "https://localhost:8080/"
        },
        "id": "N5yqa8KB2e3o",
        "outputId": "3a362179-4258-468a-d974-34791277f9bc"
      },
      "outputs": [
        {
          "output_type": "stream",
          "name": "stdout",
          "text": [
            "Tu nombre? Uno\n",
            "hello, Uno\n",
            "Tu nombre? Dps\n",
            "hello, Dps\n",
            "Tu nombre? Tres\n",
            "hello, Tres\n"
          ]
        }
      ],
      "source": [
        "names = []\n",
        "for _ in range(3):\n",
        "  name = input(\"Tu nombre? \")\n",
        "  names.append(name)\n",
        "  print(f\"hello, {name}\")"
      ]
    },
    {
      "cell_type": "code",
      "source": [
        "names = []\n",
        "for _ in range(3):\n",
        "  names.append(input(\"Tu nombre? \"))\n",
        "\n",
        "print(f\"hello, \",names)"
      ],
      "metadata": {
        "colab": {
          "base_uri": "https://localhost:8080/"
        },
        "id": "paAgUWUU3n5Q",
        "outputId": "67c2b1b3-0b86-4313-9f26-fb84db564282"
      },
      "execution_count": 5,
      "outputs": [
        {
          "output_type": "stream",
          "name": "stdout",
          "text": [
            "Tu nombre? Uno\n",
            "Tu nombre? Dos\n",
            "Tu nombre? Tres\n",
            "hello,  ['Uno', 'Dos', 'Tres']\n"
          ]
        }
      ]
    },
    {
      "cell_type": "code",
      "source": [
        "#mostrar saludo en lista ordenada\n",
        "names = []\n",
        "for _ in range(3):\n",
        "  names.append(input(\"Tu nombre? \"))\n",
        "for name in sorted(names):\n",
        "  print(f\"hello, {name}\")"
      ],
      "metadata": {
        "colab": {
          "base_uri": "https://localhost:8080/"
        },
        "id": "H5oIOIkt3wso",
        "outputId": "c7be1ef8-e413-40d3-c964-0e1ca48db10a"
      },
      "execution_count": 7,
      "outputs": [
        {
          "output_type": "stream",
          "name": "stdout",
          "text": [
            "Tu nombre? Uno\n",
            "Tu nombre? Dos\n",
            "Tu nombre? Tres\n",
            "hello, Dos\n",
            "hello, Tres\n",
            "hello, Uno\n"
          ]
        }
      ]
    },
    {
      "cell_type": "code",
      "source": [
        "#Ahora escribiendo en un archivo\n",
        "name = input(\"Tu nombre? \")\n",
        "#La apertura con \"w\" permite crear un archivo cada vez\n",
        "#por eso al aumentar nombres, se sobreescriben en el archivo\n",
        "file = open(\"nombres.txt\", \"w\")\n",
        "file.write(name)\n",
        "file.close()"
      ],
      "metadata": {
        "colab": {
          "base_uri": "https://localhost:8080/"
        },
        "id": "-atqdwBE65KU",
        "outputId": "4c34f532-b86a-4353-ceae-5d8a8bf48e85"
      },
      "execution_count": 10,
      "outputs": [
        {
          "name": "stdout",
          "output_type": "stream",
          "text": [
            "Tu nombre? Roberto\n"
          ]
        }
      ]
    },
    {
      "cell_type": "code",
      "source": [
        "#Escribiendo en un archivo\n",
        "name = input(\"Tu nombre? \")\n",
        "#La apertura con \"a\" permite agregar texto un archivo cada vez\n",
        "#por eso al aumentar nombres, ya no se sobreescriben en el archivo\n",
        "file = open(\"nombres.txt\", \"a\")\n",
        "file.write(name)\n",
        "file.close()\n",
        "#todo se agrega en una sola linea"
      ],
      "metadata": {
        "colab": {
          "base_uri": "https://localhost:8080/"
        },
        "id": "oZcKpNG48JSZ",
        "outputId": "0c53d337-b18c-47b3-9294-41574bfcad9b"
      },
      "execution_count": 12,
      "outputs": [
        {
          "name": "stdout",
          "output_type": "stream",
          "text": [
            "Tu nombre? Dos\n"
          ]
        }
      ]
    },
    {
      "cell_type": "code",
      "source": [
        "#Escribiendo en un archivo\n",
        "name = input(\"Tu nombre? \")\n",
        "#La apertura con \"a\" permite agregar texto un archivo cada vez\n",
        "#por eso al aumentar nombres, ya no se sobreescriben en el archivo\n",
        "file = open(\"nombre-U.csv\", \"a\")\n",
        "file.write(name+\"\\n\")\n",
        "file.close()"
      ],
      "metadata": {
        "colab": {
          "base_uri": "https://localhost:8080/"
        },
        "id": "nbbele8E9Dwh",
        "outputId": "1056cf06-68d1-436f-e92a-96616225975b"
      },
      "execution_count": 24,
      "outputs": [
        {
          "name": "stdout",
          "output_type": "stream",
          "text": [
            "Tu nombre? Rodrigo,Loyola\n"
          ]
        }
      ]
    },
    {
      "cell_type": "code",
      "source": [
        "#Para leer de un archivo de texto\n",
        "with open(\"nombres.txt\", \"r\") as file:\n",
        "  lines = file.readlines()\n",
        "for line in lines:\n",
        "  print(\"Hola, \", line)\n",
        "#problema... se muestra muy separado"
      ],
      "metadata": {
        "colab": {
          "base_uri": "https://localhost:8080/"
        },
        "id": "yUxQsidw9_lX",
        "outputId": "47957df4-2e78-42aa-c546-7bdb4f8431d9"
      },
      "execution_count": 18,
      "outputs": [
        {
          "output_type": "stream",
          "name": "stdout",
          "text": [
            "Hola,  RobertoUnoDosUno\n",
            "Hola,  Dos\n",
            "Hola,  Tres\n"
          ]
        }
      ]
    },
    {
      "cell_type": "code",
      "source": [
        "#Para leer de un archivo de texto\n",
        "with open(\"nombres.txt\", \"r\") as file:\n",
        "  lines = file.readlines()\n",
        "for line in lines:\n",
        "  print(\"Hola, \", line.rstrip())\n",
        "  #rstrip() quita el \\n al final de cada fila"
      ],
      "metadata": {
        "id": "DXgBxG4sCe7S"
      },
      "execution_count": null,
      "outputs": []
    },
    {
      "cell_type": "code",
      "source": [
        "names = []\n",
        "with open(\"nombres.txt\") as file:\n",
        "  for line in file:\n",
        "    names.append(line.rstrip())\n",
        "for name in sorted(names):\n",
        "  #en el for se ordena la lista de nombre\n",
        "  print(f\"hello, {name}\")"
      ],
      "metadata": {
        "colab": {
          "base_uri": "https://localhost:8080/"
        },
        "id": "Y-jzhgw0EqmD",
        "outputId": "98c13a0e-fd57-461e-b41a-79dbf0e9b3d9"
      },
      "execution_count": 19,
      "outputs": [
        {
          "output_type": "stream",
          "name": "stdout",
          "text": [
            "hello, Dos\n",
            "hello, RobertoUnoDosUno\n",
            "hello, Tres\n"
          ]
        }
      ]
    },
    {
      "cell_type": "code",
      "source": [
        "with open(\"nombres.txt\") as file:\n",
        "  for line in sorted(file):\n",
        "    print(\"hola\", line.rstrip())"
      ],
      "metadata": {
        "colab": {
          "base_uri": "https://localhost:8080/"
        },
        "id": "0dYcJcjOFp0C",
        "outputId": "2de09778-d280-4f6b-8a6a-371645b64b38"
      },
      "execution_count": 20,
      "outputs": [
        {
          "output_type": "stream",
          "name": "stdout",
          "text": [
            "hola Dos\n",
            "hola RobertoUnoDosUno\n",
            "hola Tres\n"
          ]
        }
      ]
    },
    {
      "cell_type": "code",
      "source": [
        "names = []\n",
        "with open(\"nombres.txt\") as file:\n",
        "  for line in file:\n",
        "    names.append(line.rstrip())\n",
        "for name in sorted(names, reverse=True):\n",
        "  #en el for se ordena la lista de nombre\n",
        "  print(f\"hello, {name}\")"
      ],
      "metadata": {
        "colab": {
          "base_uri": "https://localhost:8080/"
        },
        "id": "pf6XM665GNZE",
        "outputId": "17599898-dc0b-48cd-b4be-c59c85b0a7b0"
      },
      "execution_count": 21,
      "outputs": [
        {
          "output_type": "stream",
          "name": "stdout",
          "text": [
            "hello, Tres\n",
            "hello, RobertoUnoDosUno\n",
            "hello, Dos\n"
          ]
        }
      ]
    },
    {
      "cell_type": "code",
      "source": [
        "with open(\"nombre-U.csv\") as file:\n",
        "  for line in file:\n",
        "    row = line.rstrip().split(\",\")\n",
        "    print(f\"{row[0]} estudia en la {row[1]}\")"
      ],
      "metadata": {
        "colab": {
          "base_uri": "https://localhost:8080/"
        },
        "id": "B-bxaDPVXGSn",
        "outputId": "dca2fdea-4379-4402-cf2f-e77e501b7aa6"
      },
      "execution_count": 27,
      "outputs": [
        {
          "output_type": "stream",
          "name": "stdout",
          "text": [
            "Lucas estudia en la UMSA\n",
            "Maria estudia en la Univalle\n",
            "Rodrigo estudia en la Loyola\n"
          ]
        }
      ]
    },
    {
      "cell_type": "code",
      "source": [
        "with open(\"nombre-U.csv\") as file:\n",
        "  for line in file:\n",
        "    name, house= line.rstrip().split(\",\")\n",
        "    print(f\"{name} estudia en la {house}\")"
      ],
      "metadata": {
        "colab": {
          "base_uri": "https://localhost:8080/"
        },
        "id": "-tEbXYSEFa7j",
        "outputId": "df34274a-a8a7-425e-c5be-1f3d5d0288f1"
      },
      "execution_count": 28,
      "outputs": [
        {
          "output_type": "stream",
          "name": "stdout",
          "text": [
            "Lucas estudia en la UMSA\n",
            "Maria estudia en la Univalle\n",
            "Rodrigo estudia en la Loyola\n"
          ]
        }
      ]
    },
    {
      "cell_type": "code",
      "source": [
        "#"
      ],
      "metadata": {
        "id": "KfG29iEIYqM3"
      },
      "execution_count": null,
      "outputs": []
    },
    {
      "cell_type": "code",
      "source": [
        "#intentemos\n",
        "students = []\n",
        "with open(\"nombre-U.csv\") as file:\n",
        "  for line in file:\n",
        "    name, uni = line.rstrip().split(\",\")\n",
        "    estDicc = {'name':name, \"uni\":uni}\n",
        "    students.append(estDicc)\n",
        "\n",
        "for student in students:\n",
        "      print(f\"{student['name']} estudia en la {student['uni']}\")"
      ],
      "metadata": {
        "colab": {
          "base_uri": "https://localhost:8080/"
        },
        "id": "TVfBd3NyYvFy",
        "outputId": "8798fc24-1893-4a09-88e8-7175d645d671"
      },
      "execution_count": 35,
      "outputs": [
        {
          "output_type": "stream",
          "name": "stdout",
          "text": [
            "Lucas estudia en la UMSA\n",
            "Maria estudia en la Univalle\n",
            "Rodrigo estudia en la Loyola\n"
          ]
        }
      ]
    },
    {
      "cell_type": "code",
      "source": [
        "students = []\n",
        "with open(\"nombre-U.csv\") as file:\n",
        "  for line in file:\n",
        "    name, uni = line.rstrip().split(\",\")\n",
        "    estDicc = {'name':name, \"uni\":uni}\n",
        "    students.append(estDicc)\n",
        "\n",
        "  def get_name(student):\n",
        "    return(student['name'])\n",
        "\n",
        "  def get_uni(student):\n",
        "    return(student['uni'])\n",
        "\n",
        "for student in sorted(students, key=get_uni):\n",
        "      print(f\"{student['name']} estudia en la {student['uni']}\")"
      ],
      "metadata": {
        "colab": {
          "base_uri": "https://localhost:8080/"
        },
        "id": "XcWS7UNmgQ4E",
        "outputId": "a530f936-6068-4c36-d13e-e9f82e337243"
      },
      "execution_count": 39,
      "outputs": [
        {
          "output_type": "stream",
          "name": "stdout",
          "text": [
            "Rodrigo estudia en la Loyola\n",
            "Lucas estudia en la UMSA\n",
            "Maria estudia en la Univalle\n"
          ]
        }
      ]
    },
    {
      "cell_type": "code",
      "source": [
        "students = []\n",
        "with open(\"nombre-U.csv\") as file:\n",
        "  for line in file:\n",
        "    name, uni = line.rstrip().split(\",\")\n",
        "    estDicc = {'name':name, \"uni\":uni}\n",
        "    students.append(estDicc)\n",
        "\n",
        "for student in sorted(students, key=lambda student: student['name']):\n",
        "      print(f\"{student['name']} estudia en la {student['uni']}\")"
      ],
      "metadata": {
        "colab": {
          "base_uri": "https://localhost:8080/"
        },
        "id": "dkwWAPpZilHa",
        "outputId": "ba45b339-f53d-421d-e9a1-fda00baed69b"
      },
      "execution_count": 40,
      "outputs": [
        {
          "output_type": "stream",
          "name": "stdout",
          "text": [
            "Lucas estudia en la UMSA\n",
            "Maria estudia en la Univalle\n",
            "Rodrigo estudia en la Loyola\n"
          ]
        }
      ]
    }
  ]
}